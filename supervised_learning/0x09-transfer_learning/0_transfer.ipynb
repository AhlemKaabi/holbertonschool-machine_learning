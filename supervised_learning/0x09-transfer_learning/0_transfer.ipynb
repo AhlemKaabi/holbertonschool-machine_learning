{
  "nbformat": 4,
  "nbformat_minor": 0,
  "metadata": {
    "colab": {
      "name": "0-transfer.ipynb",
      "provenance": [],
      "collapsed_sections": [],
      "include_colab_link": true
    },
    "kernelspec": {
      "name": "python3",
      "display_name": "Python 3"
    },
    "language_info": {
      "name": "python"
    },
    "accelerator": "GPU"
  },
  "cells": [
    {
      "cell_type": "markdown",
      "metadata": {
        "id": "view-in-github",
        "colab_type": "text"
      },
      "source": [
        "<a href=\"https://colab.research.google.com/github/AhlemKaabi/holbertonschool-machine_learning/blob/main/supervised_learning/0x09-transfer_learning/0_transfer.ipynb\" target=\"_parent\"><img src=\"https://colab.research.google.com/assets/colab-badge.svg\" alt=\"Open In Colab\"/></a>"
      ]
    },
    {
      "cell_type": "code",
      "execution_count": null,
      "metadata": {
        "id": "bUc9iC7j_SKN"
      },
      "outputs": [],
      "source": [
        "\"\"\"\n",
        "    Transfer Knowledge\n",
        "\"\"\"\n",
        "import tensorflow.keras as K\n",
        "from keras import layers\n",
        "from keras.models import Model\n",
        "from keras.layers import Conv2D, MaxPooling2D, GlobalAveragePooling2D, Activation, Flatten\n",
        "from keras.layers import Dense, Dropout\n",
        "from keras.applications.inception_v3 import InceptionV3\n",
        "from keras.utils.np_utils import to_categorical\n",
        "\n",
        "from keras.layers import Lambda, Input\n",
        "\n",
        "import matplotlib.pyplot as plt\n"
      ]
    },
    {
      "cell_type": "markdown",
      "source": [
        "# Data Preprocessing"
      ],
      "metadata": {
        "id": "4Tzh52nBzgMU"
      }
    },
    {
      "cell_type": "code",
      "source": [
        "def preprocess_data(X, Y):\n",
        "    \"\"\"\n",
        "    Method:\n",
        "        pre-processes the data for your model.\n",
        "    \"\"\"\n",
        "    X_p = K.applications.inception_v3.preprocess_input(X)\n",
        "    Y_p = K.utils.to_categorical(Y, 10)\n",
        "\n",
        "    return X_p, Y_p"
      ],
      "metadata": {
        "id": "xvsYHdSz_Y9B"
      },
      "execution_count": null,
      "outputs": []
    },
    {
      "cell_type": "code",
      "source": [
        "(x_train, y_train), (x_test, y_test) = K.datasets.cifar10.load_data()"
      ],
      "metadata": {
        "colab": {
          "base_uri": "https://localhost:8080/"
        },
        "id": "39OMoP3o_fyK",
        "outputId": "cdeb7458-fce3-4676-94c1-ca4b0af29d03"
      },
      "execution_count": null,
      "outputs": [
        {
          "output_type": "stream",
          "name": "stdout",
          "text": [
            "Downloading data from https://www.cs.toronto.edu/~kriz/cifar-10-python.tar.gz\n",
            "170500096/170498071 [==============================] - 13s 0us/step\n",
            "170508288/170498071 [==============================] - 13s 0us/step\n"
          ]
        }
      ]
    },
    {
      "cell_type": "code",
      "source": [
        "x_train.shape"
      ],
      "metadata": {
        "id": "0ANEjLhF0Lm-"
      },
      "execution_count": null,
      "outputs": []
    },
    {
      "cell_type": "code",
      "source": [
        "x_train[0] # cheking one image"
      ],
      "metadata": {
        "id": "XhN196IQ1R4h"
      },
      "execution_count": null,
      "outputs": []
    },
    {
      "cell_type": "code",
      "source": [
        "plt.imshow(x_train[120])"
      ],
      "metadata": {
        "id": "75oWr4hDBjCR"
      },
      "execution_count": null,
      "outputs": []
    },
    {
      "cell_type": "code",
      "source": [
        "y_train.shape"
      ],
      "metadata": {
        "id": "K_kB_79w1ZCK"
      },
      "execution_count": null,
      "outputs": []
    },
    {
      "cell_type": "code",
      "source": [
        "y_train[0]"
      ],
      "metadata": {
        "id": "xuqKgTsu0TxM"
      },
      "execution_count": null,
      "outputs": []
    },
    {
      "cell_type": "code",
      "source": [
        "X_train_p, Y_train_p = preprocess_data(x_train, y_train)\n",
        "X_test_p, Y_test_p = preprocess_data(x_test, y_test)"
      ],
      "metadata": {
        "id": "l8lZLJqE_mds"
      },
      "execution_count": null,
      "outputs": []
    },
    {
      "cell_type": "code",
      "source": [
        "X_train_p.shape"
      ],
      "metadata": {
        "id": "HjD-I1n31fVk"
      },
      "execution_count": null,
      "outputs": []
    },
    {
      "cell_type": "code",
      "source": [
        "X_train_p[0]"
      ],
      "metadata": {
        "id": "vfCKkMLcwQQ9"
      },
      "execution_count": null,
      "outputs": []
    },
    {
      "cell_type": "code",
      "source": [
        "Y_train_p.shape"
      ],
      "metadata": {
        "id": "H9iJkycR1mT6"
      },
      "execution_count": null,
      "outputs": []
    },
    {
      "cell_type": "code",
      "source": [
        "Y_train_p[0]"
      ],
      "metadata": {
        "id": "spPEMWi1wVXF"
      },
      "execution_count": null,
      "outputs": []
    },
    {
      "cell_type": "markdown",
      "source": [
        "# Transfer Learning"
      ],
      "metadata": {
        "id": "bRcd4Ve510Lu"
      }
    },
    {
      "cell_type": "code",
      "source": [
        "base_inception = InceptionV3(include_top=False, input_shape=(299, 299, 3))"
      ],
      "metadata": {
        "colab": {
          "base_uri": "https://localhost:8080/"
        },
        "id": "O8Ug-1sF3BHO",
        "outputId": "eb3fc75d-7324-4816-ca67-23546ff90644"
      },
      "execution_count": null,
      "outputs": [
        {
          "output_type": "stream",
          "name": "stdout",
          "text": [
            "Downloading data from https://storage.googleapis.com/tensorflow/keras-applications/inception_v3/inception_v3_weights_tf_dim_ordering_tf_kernels_notop.h5\n",
            "87916544/87910968 [==============================] - 3s 0us/step\n",
            "87924736/87910968 [==============================] - 3s 0us/step\n"
          ]
        }
      ]
    },
    {
      "cell_type": "code",
      "source": [
        "# base_inception.summary()"
      ],
      "metadata": {
        "id": "cdKXNHYN4mih"
      },
      "execution_count": null,
      "outputs": []
    },
    {
      "cell_type": "code",
      "source": [
        "print(base_inception.input.shape)\n",
        "print(base_inception.output.shape)"
      ],
      "metadata": {
        "colab": {
          "base_uri": "https://localhost:8080/"
        },
        "id": "jxA9w9hp73HB",
        "outputId": "02190952-1433-43fc-e6b8-14a595a06cd6"
      },
      "execution_count": null,
      "outputs": [
        {
          "output_type": "stream",
          "name": "stdout",
          "text": [
            "(None, 299, 299, 3)\n",
            "(None, 8, 8, 2048)\n"
          ]
        }
      ]
    },
    {
      "cell_type": "code",
      "source": [
        "input_layer = Input(shape=(32, 32, 3))\n",
        "\n",
        "resizing_layer = Lambda(lambda image: K.preprocessing.image.smart_resize(image, (299, 299)))(input_layer)\n",
        "# print(resizing_layer.shape)\n",
        "\n",
        "inception_layers = base_inception(resizing_layer, training=False)\n",
        "\n",
        "glob_pooling = GlobalAveragePooling2D()(inception_layers)\n",
        "\n",
        "layer_i = Dense(500, activation='relu')(glob_pooling)\n",
        "\n",
        "dropout_layer = Dropout(0.3)(layer_i)\n",
        "\n",
        "output_layer =  Dense(10, activation='softmax')(dropout_layer)\n",
        "\n",
        "model = Model(inputs=input_layer, outputs=output_layer)"
      ],
      "metadata": {
        "id": "MoiZ6gsi8dy0"
      },
      "execution_count": null,
      "outputs": []
    },
    {
      "cell_type": "code",
      "source": [
        "base_inception.trainable = False\n",
        "\n",
        "optimizer = K.optimizers.Adam(0.001)"
      ],
      "metadata": {
        "id": "RuJXLact9Fuj"
      },
      "execution_count": null,
      "outputs": []
    },
    {
      "cell_type": "code",
      "source": [
        "model.compile(optimizer=optimizer,\n",
        "              loss='categorical_crossentropy',\n",
        "              metrics=['accuracy'])"
      ],
      "metadata": {
        "id": "zqU7VJFO_70Y"
      },
      "execution_count": null,
      "outputs": []
    },
    {
      "cell_type": "code",
      "source": [
        "es = K.callbacks.EarlyStopping(monitor='val_loss', verbose=1)\n",
        "# By default, mode is set to ‘auto‘ and knows that you want to minimize loss or maximize accuracy."
      ],
      "metadata": {
        "id": "72g_Q8-CxT6s"
      },
      "execution_count": null,
      "outputs": []
    },
    {
      "cell_type": "code",
      "source": [
        "history = model.fit(\n",
        "        X_train_p,\n",
        "        Y_train_p,\n",
        "        validation_data=(X_test_p, Y_test_p),\n",
        "        batch_size=300,\n",
        "        epochs=15,\n",
        "        verbose=1,\n",
        "        callbacks=[es])\n",
        "# changed the epoches to 15\n"
      ],
      "metadata": {
        "id": "9rvdykYR_9fE",
        "colab": {
          "base_uri": "https://localhost:8080/"
        },
        "outputId": "b7b18816-d08d-45c1-e851-97484bbbf7ed"
      },
      "execution_count": null,
      "outputs": [
        {
          "output_type": "stream",
          "name": "stdout",
          "text": [
            "Epoch 1/15\n",
            "167/167 [==============================] - 229s 1s/step - loss: 0.5672 - accuracy: 0.8119 - val_loss: 0.4056 - val_accuracy: 0.8603\n",
            "Epoch 2/15\n",
            "167/167 [==============================] - 201s 1s/step - loss: 0.3905 - accuracy: 0.8660 - val_loss: 0.4037 - val_accuracy: 0.8616\n",
            "Epoch 2: early stopping\n"
          ]
        }
      ]
    },
    {
      "cell_type": "code",
      "source": [
        "results = model.evaluate(X_test_p, Y_test_p)\n"
      ],
      "metadata": {
        "id": "_bGGUk4__-8J",
        "colab": {
          "base_uri": "https://localhost:8080/"
        },
        "outputId": "fbc7ee96-84aa-4281-acc7-5ce759fa27bc"
      },
      "execution_count": null,
      "outputs": [
        {
          "output_type": "stream",
          "name": "stdout",
          "text": [
            "313/313 [==============================] - 38s 116ms/step - loss: 0.4037 - accuracy: 0.8616\n"
          ]
        }
      ]
    },
    {
      "cell_type": "code",
      "source": [
        "print(results)"
      ],
      "metadata": {
        "colab": {
          "base_uri": "https://localhost:8080/"
        },
        "id": "al7ZnQ1KSvsa",
        "outputId": "be65ed12-530c-40ff-bd5d-10601a6e0452"
      },
      "execution_count": null,
      "outputs": [
        {
          "output_type": "stream",
          "name": "stdout",
          "text": [
            "[0.39033597707748413, 0.8687000274658203]\n"
          ]
        }
      ]
    },
    {
      "cell_type": "code",
      "source": [
        "from tensorflow.keras.utils import plot_model\n",
        "plot_model(base_inception, to_file='model.png')"
      ],
      "metadata": {
        "id": "55RJ4Kx2y0QU"
      },
      "execution_count": null,
      "outputs": []
    },
    {
      "cell_type": "code",
      "source": [
        "for i, layer in enumerate(base_inception.layers):\n",
        "  print(i, layer.name)"
      ],
      "metadata": {
        "id": "ZLddWKpJzmCj"
      },
      "execution_count": null,
      "outputs": []
    },
    {
      "cell_type": "code",
      "source": [
        "# for layer in base_inception.layers[:195]:\n",
        "#   layer.trainable=False\n",
        "\n",
        "# for layer in base_inception.layers[195:]:\n",
        "#   layer.trainable=True\n",
        "# --> loss: 0.3791 - accuracy: 0.8719\n",
        "for layer in base_inception.layers[:164]:\n",
        "  layer.trainable=False\n",
        "\n",
        "for layer in base_inception.layers[164:]:\n",
        "  layer.trainable=True"
      ],
      "metadata": {
        "id": "W6aH4nG9z8I1"
      },
      "execution_count": null,
      "outputs": []
    },
    {
      "cell_type": "code",
      "source": [
        "my_optimizer = K.optimizers.Adam(1e-5)\n",
        "\n",
        "\n",
        "model.compile(optimizer=my_optimizer,\n",
        "              loss='categorical_crossentropy',\n",
        "              metrics=['accuracy'])"
      ],
      "metadata": {
        "id": "14OSCqIn0V7F"
      },
      "execution_count": null,
      "outputs": []
    },
    {
      "cell_type": "code",
      "source": [
        "es = K.callbacks.EarlyStopping(monitor='val_loss', mode='min', verbose=1)\n",
        "history = model.fit(\n",
        "        X_train_p,\n",
        "        Y_train_p,\n",
        "        validation_data=(X_test_p, Y_test_p),\n",
        "        batch_size=300,\n",
        "        epochs=10,\n",
        "        verbose=1,\n",
        "        callbacks=[es])"
      ],
      "metadata": {
        "colab": {
          "base_uri": "https://localhost:8080/"
        },
        "id": "4r4FwEDv1lI3",
        "outputId": "f49affea-9213-4782-9c88-3fdd75a359d3"
      },
      "execution_count": null,
      "outputs": [
        {
          "output_type": "stream",
          "name": "stdout",
          "text": [
            "Epoch 1/10\n",
            "167/167 [==============================] - 200s 1s/step - loss: 0.3344 - accuracy: 0.8852 - val_loss: 0.3620 - val_accuracy: 0.8768\n",
            "Epoch 2/10\n",
            "167/167 [==============================] - 202s 1s/step - loss: 0.3217 - accuracy: 0.8908 - val_loss: 0.3598 - val_accuracy: 0.8768\n",
            "Epoch 2: early stopping\n"
          ]
        }
      ]
    },
    {
      "cell_type": "code",
      "source": [
        "results = model.evaluate(X_test_p, Y_test_p)"
      ],
      "metadata": {
        "colab": {
          "base_uri": "https://localhost:8080/"
        },
        "id": "mAV6FOFe8jO7",
        "outputId": "def87544-7240-4fca-8dba-5a37312979e5"
      },
      "execution_count": null,
      "outputs": [
        {
          "output_type": "stream",
          "name": "stdout",
          "text": [
            "313/313 [==============================] - 84s 268ms/step - loss: 0.3757 - accuracy: 0.8724\n"
          ]
        }
      ]
    }
  ]
}